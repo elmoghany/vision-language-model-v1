{
 "cells": [
  {
   "cell_type": "code",
   "execution_count": 2,
   "metadata": {},
   "outputs": [],
   "source": [
    "from RotaryEmbedding_f import RotaryEmbedding\n",
    "import torch"
   ]
  },
  {
   "cell_type": "code",
   "execution_count": 3,
   "metadata": {},
   "outputs": [
    {
     "name": "stdout",
     "output_type": "stream",
     "text": [
      "Cosine output shape: torch.Size([2, 20, 128])\n",
      "Sine output shape: torch.Size([2, 20, 128])\n",
      "\n",
      "Cosine embedding (first example, first 2 positions):\n",
      "tensor([[1.0000, 1.0000, 1.0000, 1.0000, 1.0000, 1.0000, 1.0000, 1.0000],\n",
      "        [0.5403, 0.5974, 0.6479, 0.6925, 0.7318, 0.7662, 0.7965, 0.8229]])\n",
      "\n",
      "Sine embedding (first example, first 2 positions):\n",
      "tensor([[0.0000, 0.0000, 0.0000, 0.0000, 0.0000, 0.0000, 0.0000, 0.0000],\n",
      "        [0.8415, 0.8020, 0.7617, 0.7214, 0.6816, 0.6426, 0.6047, 0.5682]])\n"
     ]
    }
   ],
   "source": [
    "# Test parameters\n",
    "batch_size = 2\n",
    "num_attention_heads = 4\n",
    "seq_len = 10\n",
    "head_dim = 256  # Must be even\n",
    "\n",
    "# Create a dummy input tensor 'x' with the expected shape.\n",
    "# x is not used in the actual rotary computation here but is required for device context.\n",
    "x_dummy = torch.randn(batch_size, num_attention_heads, seq_len, head_dim)\n",
    "\n",
    "# Create dummy position_ids for each example in the batch.\n",
    "# For simplicity, we use the same positions [0, 1, ..., seq_len-1] for every batch.\n",
    "position_ids = torch.arange(seq_len).unsqueeze(0).expand(batch_size, -1)\n",
    "\n",
    "# Instantiate the RotaryEmbedding module (on CPU in this example)\n",
    "rotary_emb = RotaryEmbedding(head_dim=head_dim, device='cpu')\n",
    "\n",
    "# Run the forward pass of the rotary embedding.\n",
    "cos_out, sin_out = rotary_emb(x_dummy, position_ids, seq_len)\n",
    "\n",
    "# Print out the results.\n",
    "print(\"Cosine output shape:\", cos_out.shape)  # Expected: [batch_size, seq_len, head_dim]\n",
    "print(\"Sine output shape:\", sin_out.shape)      # Expected: [batch_size, seq_len, head_dim]\n",
    "\n",
    "# (Optional) Print a small part of the output to inspect the values.\n",
    "print(\"\\nCosine embedding (first example, first 2 positions):\")\n",
    "print(cos_out[0, :2, :8])\n",
    "print(\"\\nSine embedding (first example, first 2 positions):\")\n",
    "print(sin_out[0, :2, :8])\n"
   ]
  },
  {
   "cell_type": "code",
   "execution_count": null,
   "metadata": {},
   "outputs": [],
   "source": []
  }
 ],
 "metadata": {
  "kernelspec": {
   "display_name": "Python 3",
   "language": "python",
   "name": "python3"
  },
  "language_info": {
   "codemirror_mode": {
    "name": "ipython",
    "version": 3
   },
   "file_extension": ".py",
   "mimetype": "text/x-python",
   "name": "python",
   "nbconvert_exporter": "python",
   "pygments_lexer": "ipython3",
   "version": "3.10.12"
  }
 },
 "nbformat": 4,
 "nbformat_minor": 2
}
