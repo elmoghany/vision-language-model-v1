{
 "cells": [
  {
   "cell_type": "code",
   "execution_count": null,
   "metadata": {},
   "outputs": [
    {
     "data": {
      "text/plain": [
       "torch.Size([2, 2])"
      ]
     },
     "execution_count": 3,
     "metadata": {},
     "output_type": "execute_result"
    }
   ],
   "source": [
    "import torch\n",
    "a = torch.tensor([[1, 2],\n",
    "                  [3, 4]])\n",
    "a.shape"
   ]
  },
  {
   "cell_type": "code",
   "execution_count": 20,
   "metadata": {},
   "outputs": [
    {
     "data": {
      "text/plain": [
       "torch.Size([3, 2])"
      ]
     },
     "execution_count": 20,
     "metadata": {},
     "output_type": "execute_result"
    }
   ],
   "source": [
    "import torch\n",
    "a = torch.tensor([[1, 2],\n",
    "                  [3, 4],\n",
    "                  [3, 4]])\n",
    "a = a\n",
    "a.shape"
   ]
  },
  {
   "cell_type": "code",
   "execution_count": null,
   "metadata": {},
   "outputs": [
    {
     "data": {
      "text/plain": [
       "torch.Size([20, 10])"
      ]
     },
     "execution_count": 25,
     "metadata": {},
     "output_type": "execute_result"
    }
   ],
   "source": [
    "position_ids = torch.arange(10).expand(20, -1) # [batch_size, seq_len]\n",
    "position_ids.shape\n",
    "#position_ids.shape[0] [batch_size]"
   ]
  },
  {
   "cell_type": "code",
   "execution_count": 36,
   "metadata": {},
   "outputs": [
    {
     "data": {
      "text/plain": [
       "torch.Size([20, 128, 1])"
      ]
     },
     "execution_count": 36,
     "metadata": {},
     "output_type": "execute_result"
    }
   ],
   "source": [
    "inv_freq = 1/ (10000 ** (torch.arange(0, 256, 2).float() / 256))\n",
    "inv_freq.shape # dim/2\n",
    "inv_freq_expanded = inv_freq[None, :, None].float()\n",
    "inv_freq_expanded.shape # [1, dim/2, 1]\n",
    "inv_freq_expanded = inv_freq_expanded.expand(position_ids.shape[0], -1, 1)\n",
    "inv_freq_expanded.shape\n",
    "# [batch_size, dim/2, 1]"
   ]
  },
  {
   "cell_type": "code",
   "execution_count": 2,
   "metadata": {},
   "outputs": [
    {
     "data": {
      "text/plain": [
       "torch.Size([2, 3, 4])"
      ]
     },
     "execution_count": 2,
     "metadata": {},
     "output_type": "execute_result"
    }
   ],
   "source": [
    "import torch\n",
    "A = torch.randn(2, 3, 1)\n",
    "B = torch.randn(2, 1, 4)\n",
    "C = A @ B\n",
    "C.shape\n"
   ]
  },
  {
   "cell_type": "code",
   "execution_count": 27,
   "metadata": {},
   "outputs": [
    {
     "name": "stdout",
     "output_type": "stream",
     "text": [
      "---x---\n",
      "torch.Size([2, 4])\n",
      "tensor([[1, 2, 3, 4],\n",
      "        [5, 6, 7, 8]])\n",
      "2\n",
      "---x1---\n",
      "torch.Size([2, 2])\n",
      "tensor([[1, 2],\n",
      "        [5, 6]])\n",
      "---x2---\n",
      "torch.Size([2, 2])\n",
      "tensor([[3, 4],\n",
      "        [7, 8]])\n"
     ]
    }
   ],
   "source": [
    "x = torch.tensor([[1, 2, 3, 4],\n",
    "                  [5, 6, 7, 8]])\n",
    "print(\"---x---\")\n",
    "print(x.shape)\n",
    "print(x)\n",
    "print(x.shape[-1] // 2)\n",
    "x1 = x[..., : x.shape[-1] // 2]\n",
    "print(\"---x1---\")\n",
    "print(x1.shape)\n",
    "print(x1)\n",
    "x2 = x[..., x.shape[-1] // 2 :]\n",
    "print(\"---x2---\")\n",
    "print(x2.shape)\n",
    "print(x2)"
   ]
  },
  {
   "cell_type": "code",
   "execution_count": null,
   "metadata": {},
   "outputs": [],
   "source": []
  }
 ],
 "metadata": {
  "kernelspec": {
   "display_name": "Python 3",
   "language": "python",
   "name": "python3"
  },
  "language_info": {
   "codemirror_mode": {
    "name": "ipython",
    "version": 3
   },
   "file_extension": ".py",
   "mimetype": "text/x-python",
   "name": "python",
   "nbconvert_exporter": "python",
   "pygments_lexer": "ipython3",
   "version": "3.10.12"
  }
 },
 "nbformat": 4,
 "nbformat_minor": 2
}
