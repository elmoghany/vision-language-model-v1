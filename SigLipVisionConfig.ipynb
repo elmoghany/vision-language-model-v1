{
 "cells": [
  {
   "cell_type": "code",
   "execution_count": null,
   "metadata": {},
   "outputs": [
    {
     "ename": "NameError",
     "evalue": "name 'test' is not defined",
     "output_type": "error",
     "traceback": [
      "\u001b[0;31m---------------------------------------------------------------------------\u001b[0m",
      "\u001b[0;31mNameError\u001b[0m                                 Traceback (most recent call last)",
      "\u001b[0;32m/tmp/ipykernel_3151931/2074824509.py\u001b[0m in \u001b[0;36m<module>\u001b[0;34m\u001b[0m\n\u001b[0;32m----> 1\u001b[0;31m \u001b[0mtest\u001b[0m\u001b[0;34m\u001b[0m\u001b[0;34m\u001b[0m\u001b[0m\n\u001b[0m",
      "\u001b[0;31mNameError\u001b[0m: name 'test' is not defined"
     ]
    }
   ],
   "source": [
    "class SigLibVisionConfig:\n",
    "    def __init__(\n",
    "                self,\n",
    "                dmodel = 768,\n",
    "                dff_inner_dim = 3072,\n",
    "                num_hidden_layers = 12,\n",
    "                num_attention_heads = 12,\n",
    "                num_channels = 3,\n",
    "                image_size = 224,\n",
    "                patch_size = 16,\n",
    "                layer_norm_eps = 1e-6,\n",
    "                attention_drop = 0.0,\n",
    "                num_image_tokens: int = None,\n",
    "                **kwargs\n",
    "                ):\n",
    "        super().__init__()\n",
    "        self.dmodel             = dmodel\n",
    "        self.dff_inner_dim      = dff_inner_dim\n",
    "        self.num_hidden_layers  = num_hidden_layers\n",
    "        self.num_attention_heads= num_attention_heads\n",
    "        self.num_channels       = num_channels\n",
    "        self.image_size         = image_size\n",
    "        self.patch_size         = patch_size\n",
    "        self.layer_norm_eps     = layer_norm_eps\n",
    "        self.attention_drop     = attention_drop\n",
    "        self.num_image_tokens   = num_image_tokens\n",
    "        "
   ]
  }
 ],
 "metadata": {
  "kernelspec": {
   "display_name": "Python 3",
   "language": "python",
   "name": "python3"
  },
  "language_info": {
   "codemirror_mode": {
    "name": "ipython",
    "version": 3
   },
   "file_extension": ".py",
   "mimetype": "text/x-python",
   "name": "python",
   "nbconvert_exporter": "python",
   "pygments_lexer": "ipython3",
   "version": "3.10.12"
  }
 },
 "nbformat": 4,
 "nbformat_minor": 2
}
